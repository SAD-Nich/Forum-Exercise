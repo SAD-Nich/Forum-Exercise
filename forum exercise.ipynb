{
 "cells": [
  {
   "cell_type": "code",
   "execution_count": 1,
   "id": "3769c318",
   "metadata": {},
   "outputs": [
    {
     "name": "stdout",
     "output_type": "stream",
     "text": [
      "radius:7\n",
      "the area of the cirlce is 153.86\n"
     ]
    }
   ],
   "source": [
    "#1 Write a Python program which accepts the radius of a circle from the user and compute the area\n",
    "r= float(input(\"radius:\"))\n",
    "area= 3.14*r**2\n",
    "print(f\"the area of the cirlce is {area}\")"
   ]
  },
  {
   "cell_type": "code",
   "execution_count": 2,
   "id": "b88cb217",
   "metadata": {},
   "outputs": [
    {
     "name": "stdout",
     "output_type": "stream",
     "text": [
      "First Name:James\n",
      "Last Name:Rodriguez\n",
      "Rodriguez James\n"
     ]
    }
   ],
   "source": [
    "#2 Write a Python program which accepts the user's first and last name and print them in reverse order with a space between them.\n",
    "fn= input(\"First Name:\")\n",
    "ln= input(\"Last Name:\")\n",
    "print(ln, fn)"
   ]
  },
  {
   "cell_type": "code",
   "execution_count": 5,
   "id": "f64eac20",
   "metadata": {},
   "outputs": [
    {
     "name": "stdout",
     "output_type": "stream",
     "text": [
      "The first color from the list is Red\n",
      "The last color from the list is Black\n"
     ]
    }
   ],
   "source": [
    "#3 Write a Python program to display the first and last colors from the following list.\n",
    "color_list = [\"Red\",\"Green\",\"White\",\"Black\"]\n",
    "print(f\"The first color from the list is {color_list[0]}\")\n",
    "print(f\"The last color from the list is {color_list[-1]}\")"
   ]
  },
  {
   "cell_type": "code",
   "execution_count": 6,
   "id": "d0f0fc79",
   "metadata": {},
   "outputs": [
    {
     "name": "stdout",
     "output_type": "stream",
     "text": [
      "Give n a value:5\n",
      "The value of n is 155\n"
     ]
    }
   ],
   "source": [
    "#4 Write a Python program that accepts an integer (n) and computes the value of n+nn+nnn.\n",
    "n= int(input(\"Give n a value:\"))\n",
    "print(f\"The value of n is {n+n**2+n**3}\")"
   ]
  },
  {
   "cell_type": "code",
   "execution_count": 7,
   "id": "6b88d88f",
   "metadata": {},
   "outputs": [
    {
     "name": "stdout",
     "output_type": "stream",
     "text": [
      "The radius of the circle is 6\n",
      "The volume of the circle is 904 or 904.3199999999999\n"
     ]
    }
   ],
   "source": [
    "#5 Write a Python program to get the volume of a sphere with radius 6.\n",
    "r = 6\n",
    "volume = (4/3*3.14*r**3)\n",
    "print(\"The radius of the circle is 6\")\n",
    "print(f\"The volume of the circle is {int(volume)} or {float(volume)}\")"
   ]
  },
  {
   "cell_type": "code",
   "execution_count": 8,
   "id": "56772ae4",
   "metadata": {},
   "outputs": [
    {
     "name": "stdout",
     "output_type": "stream",
     "text": [
      "Input any random number:28\n",
      "22\n"
     ]
    }
   ],
   "source": [
    "#6 Write a Python program to get the difference between a given number and 17, if the number is greater than 17 return double the absolute difference.\n",
    "num = int(input(\"Input any random number:\"))\n",
    "if num < 17:\n",
    "    print(17-num)\n",
    "else:\n",
    "    print((num-17)*2)"
   ]
  },
  {
   "cell_type": "code",
   "execution_count": 9,
   "id": "0343bc11",
   "metadata": {},
   "outputs": [
    {
     "name": "stdout",
     "output_type": "stream",
     "text": [
      "Input a number:28\n",
      "Input a second number:28\n",
      "Input a third number:28\n",
      "The result is 252\n"
     ]
    }
   ],
   "source": [
    "#7 Write a Python program to calculate the sum of three given numbers, if the values are equal then return thrice of their sum.\n",
    "num1 = float(input(\"Input a number:\"))\n",
    "num2 = float(input(\"Input a second number:\"))\n",
    "num3 = float(input(\"Input a third number:\"))\n",
    "if num1 == num2 == num3:\n",
    "    print(f\"The result is {int(num1 + num2 +num3)*3}\")\n",
    "else:\n",
    "    print(f\"The result is {int(num1+num2+num3)}\")"
   ]
  },
  {
   "cell_type": "code",
   "execution_count": 10,
   "id": "cd11cb50",
   "metadata": {},
   "outputs": [
    {
     "name": "stdout",
     "output_type": "stream",
     "text": [
      "Input any number:28\n",
      "This number is an even number\n"
     ]
    }
   ],
   "source": [
    "#8 Write a Python program to find wheter a given number (accept from the user) is even or odd, print out an appropriate message to the user.\n",
    "num = int(input(\"Input any number:\"))\n",
    "if num % 2 == 0:\n",
    "    print(\"This number is an even number\")\n",
    "else:\n",
    "    print(\"This number is an odd number\")"
   ]
  },
  {
   "cell_type": "code",
   "execution_count": 12,
   "id": "afa028c8",
   "metadata": {},
   "outputs": [
    {
     "name": "stdout",
     "output_type": "stream",
     "text": [
      "Type in any letter:O\n",
      "This letter is a vowel\n"
     ]
    }
   ],
   "source": [
    "#9 Write a Python program to test whether a letter is a vowel or not\n",
    "characters = input(\"Type in any letter:\")\n",
    "if characters in ('a', 'e', 'i', 'o', 'u'):\n",
    "    print(\"This letter is a vowel\")\n",
    "elif characters in ('A', 'E', 'I', 'O', 'U'):\n",
    "    print(\"This letter is a vowel\")\n",
    "else:\n",
    "    print(\"This letter is a consonant\")"
   ]
  },
  {
   "cell_type": "code",
   "execution_count": 14,
   "id": "fdd17b7c",
   "metadata": {},
   "outputs": [
    {
     "name": "stdout",
     "output_type": "stream",
     "text": [
      "What do you want?:TeA\n",
      "It's available\n"
     ]
    }
   ],
   "source": [
    "#10 Write a Python program to check whether a specified value is contained in a group of values.\n",
    "stuff = (\"Tea\",\"Coffee\",\"Ice\",\"Diamonds\",\"Rocks\",\"Fishes\",\"Stones\",\"Stories\")\n",
    "item = input(\"What do you want?:\")\n",
    "item = item.capitalize()\n",
    "if item in stuff:\n",
    "    print(\"It's available\")\n",
    "else:\n",
    "    print(\"It's not available\")"
   ]
  },
  {
   "cell_type": "code",
   "execution_count": 17,
   "id": "3afe984f",
   "metadata": {
    "scrolled": true
   },
   "outputs": [
    {
     "data": {
      "text/plain": [
       "(array([8., 6., 5., 9.]),\n",
       " array([ 1.  ,  3.25,  5.5 ,  7.75, 10.  ]),\n",
       " <BarContainer object of 4 artists>)"
      ]
     },
     "execution_count": 17,
     "metadata": {},
     "output_type": "execute_result"
    },
    {
     "data": {
      "image/png": "[encoded data removed]",
      "text/plain": [
       "<Figure size 640x480 with 1 Axes>"
      ]
     },
     "metadata": {},
     "output_type": "display_data"
    }
   ],
   "source": [
    "#11 Write a Python program to create a histogram from a given list of integers.\n",
    "import matplotlib.pyplot as plt\n",
    "\n",
    "x = [1, 1, 1, 2, 2, 2, 3, 3, 4, 4, 4, 4, 4, 5, 6, 7, 7, 7, 7, 8, 8, 8, 9, 9, 9, 9, 10, 10]\n",
    "plt.hist(x, bins=4, edgecolor='black')"
   ]
  },
  {
   "cell_type": "code",
   "execution_count": 18,
   "id": "f080448c",
   "metadata": {},
   "outputs": [
    {
     "name": "stdout",
     "output_type": "stream",
     "text": [
      "386. 462. 418. 344. 236. 566. 978. 328. 162. 758. 918. 412. 566. 826. 248. 866. 950. 626. 104. 58. 512. 24. 892. 894. 742. 958. "
     ]
    }
   ],
   "source": [
    "#12 Write a Python program to print all even numbers from a given numbers list in the same order.\n",
    "numbers = [\n",
    " 386, 462, 47, 418, 907, 344, 236, 375, 823, 566, 597, 978, 328, 615, 953, 345,\n",
    " 399, 162, 758, 219, 918, 237, 412, 566, 826, 248, 866, 950, 626, 949, 687, 217,\n",
    " 815, 67, 104, 58, 512, 24, 892, 894, 767, 553, 81, 379, 843, 831, 445, 742, 717,\n",
    " 958, 743, 527\n",
    "    ]\n",
    "for n in numbers:\n",
    "    if n % 2 == 0:\n",
    "        print(n, end=\". \")"
   ]
  },
  {
   "cell_type": "code",
   "execution_count": 19,
   "id": "3e0fa94a",
   "metadata": {},
   "outputs": [
    {
     "name": "stdout",
     "output_type": "stream",
     "text": [
      "What is the base of the triangle?:7\n",
      "What is the height of the triangle?:8\n",
      "The value of the triangle's area is 28\n"
     ]
    }
   ],
   "source": [
    "#13 Write a Python program that will accept the base and height of a triangle and compute the area.\n",
    "base = float(input(\"What is the base of the triangle?:\"))\n",
    "height = float(input(\"What is the height of the triangle?:\"))\n",
    "total = float((base*height)/2)\n",
    "print(f\"The value of the triangle's area is {int(total)}\")"
   ]
  },
  {
   "cell_type": "code",
   "execution_count": 20,
   "id": "2097f293",
   "metadata": {},
   "outputs": [
    {
     "name": "stdout",
     "output_type": "stream",
     "text": [
      "Put in any number: 3.5\n",
      "Put in a second number: 4\n",
      "The L.C.M is 28\n"
     ]
    }
   ],
   "source": [
    "#14 Write a Python program to get the least common multiple (LCM) of two positive integers.\n",
    "num1 = float(input(\"Put in any number: \"))\n",
    "num2 = float(input(\"Put in a second number: \"))\n",
    "if num1 > num2:\n",
    "    greater = num1\n",
    "else:\n",
    "    greater = num2\n",
    "while (True):\n",
    "    if ((greater % num1 == 0) and (greater % num2 == 0)):\n",
    "        lcm = greater\n",
    "        break\n",
    "    greater += 0.5\n",
    "print(f\"The L.C.M is {int(lcm)}\")"
   ]
  },
  {
   "cell_type": "code",
   "execution_count": 21,
   "id": "65340663",
   "metadata": {},
   "outputs": [
    {
     "name": "stdout",
     "output_type": "stream",
     "text": [
      "Input a number:2\n",
      "Input a second number:2\n",
      "Input a third number:3\n",
      "The result is 0 for whatever reason.\n"
     ]
    }
   ],
   "source": [
    "#15 Write a Python program to sum of three given integers. However, if two values are equal sum will be zero.\n",
    "num1 = float(input(\"Input a number:\"))\n",
    "num2 = float(input(\"Input a second number:\"))\n",
    "num3 = float(input(\"Input a third number:\"))\n",
    "if num1 == num2 or num1 == num3 or num2 == num3:\n",
    "    print(\"The result is 0 for whatever reason.\")\n",
    "else:\n",
    "    print(f\"The result is {int(num1+num2+num3)}\")"
   ]
  },
  {
   "cell_type": "code",
   "execution_count": 22,
   "id": "24d691a7",
   "metadata": {},
   "outputs": [
    {
     "name": "stdout",
     "output_type": "stream",
     "text": [
      "Give x a number:4\n",
      "Give y a number:3\n",
      "The result is 49 or 49.0\n"
     ]
    }
   ],
   "source": [
    "#16 Write a Python program to solve (x + y) * (x + y)\n",
    "x= float(input(\"Give x a number:\"))\n",
    "y= float(input(\"Give y a number:\"))\n",
    "z= ((x+y)**2)\n",
    "print(f\"The result is {int(z)} or {float(z)}\")"
   ]
  },
  {
   "cell_type": "code",
   "execution_count": 23,
   "id": "5e0dc31a",
   "metadata": {},
   "outputs": [
    {
     "name": "stdout",
     "output_type": "stream",
     "text": [
      "Amount:10000\n",
      "Rate of Interest:3.5\n",
      "For how many years?:7\n",
      "Expected value in the future is 12722.79\n"
     ]
    }
   ],
   "source": [
    "#17 Write a Python program to compute the future value of a specified principal amount, rate of interest, and a number of years.\n",
    "amt = float(input(\"Amount:\"))\n",
    "int = float(input(\"Rate of Interest:\"))\n",
    "years = float(input(\"For how many years?:\"))\n",
    "FV = amt*((1+(0.01*int)) ** years)\n",
    "print(f\"Expected value in the future is {round(FV,2)}\")"
   ]
  },
  {
   "cell_type": "code",
   "execution_count": 28,
   "id": "edcef247",
   "metadata": {
    "scrolled": false
   },
   "outputs": [
    {
     "name": "stdout",
     "output_type": "stream",
     "text": [
      "Point for x1:6\n",
      "Point for y1:5\n",
      "Point for x2:3\n",
      "Point for y2:7\n",
      "Distance between points (6.0, 5.0) and (3.0, 7.0) is 4\n"
     ]
    }
   ],
   "source": [
    "#18 Write a Python program to compute the distance between the points (x1, y1) and (x2, y2).\n",
    "x1 = float(input(\"Point for x1:\"))\n",
    "y1 = float(input(\"Point for y1:\"))\n",
    "x2 = float(input(\"Point for x2:\"))\n",
    "y2 = float(input(\"Point for y2:\"))\n",
    "distance = ((x1 - x2)**2 + (y1 - y2)**2)**0.5\n",
    "print(f\"Distance between points ({x1}, {y1}) and ({x2}, {y2}) is {round(distance)}\")"
   ]
  },
  {
   "cell_type": "code",
   "execution_count": 33,
   "id": "c93c298e",
   "metadata": {
    "scrolled": true
   },
   "outputs": [
    {
     "name": "stdout",
     "output_type": "stream",
     "text": [
      "Give a number:28\n",
      "The sum of the first 28.0 positive integers is 406\n"
     ]
    }
   ],
   "source": [
    "#19 Write a python program to sum of the first n positive integers.\n",
    "c= float(input(\"Give a number:\"))\n",
    "sum = (c * (c + 1)) / 2\n",
    "print(\"The sum of the first\", c ,\"positive integers is\", round(sum))"
   ]
  },
  {
   "cell_type": "code",
   "execution_count": 43,
   "id": "2d06cf8a",
   "metadata": {
    "scrolled": true
   },
   "outputs": [
    {
     "name": "stdout",
     "output_type": "stream",
     "text": [
      "How tall are you in feet:5\n",
      "and inches?:8\n",
      "Your height in centimeters is 172.72 cm\n"
     ]
    }
   ],
   "source": [
    "#20 Write a Python program to convert height (in feet and inches) to centimeters\n",
    "ft= float(input(\"How tall are you in feet:\"))\n",
    "In= float(input(\"and inches?:\"))\n",
    "eval= (ft*12*2.54)+(In*2.54)\n",
    "print(\"Your height in centimeters is\", round(eval,2),\"cm\")"
   ]
  },
  {
   "cell_type": "code",
   "execution_count": 47,
   "id": "b8eb683d",
   "metadata": {},
   "outputs": [
    {
     "name": "stdout",
     "output_type": "stream",
     "text": [
      "Length of one side:7\n",
      "Length of other side:4\n",
      "The hypotenuse of the triangle is 8\n"
     ]
    }
   ],
   "source": [
    "#21 Write a Python program to calculate the hypotenuse of a right angled triangle.\n",
    "side1 = float(input(\"Length of one side:\"))\n",
    "side2 = float(input(\"Length of other side:\"))\n",
    "cal= ((side1**2+side2**2)**0.5)\n",
    "print(\"The hypotenuse of the triangle is\", round(cal))"
   ]
  },
  {
   "cell_type": "code",
   "execution_count": 48,
   "id": "f6944bf7",
   "metadata": {},
   "outputs": [
    {
     "name": "stdout",
     "output_type": "stream",
     "text": [
      "How tall are you in meters?1.87\n",
      "How heavy are you in kilograms?:80\n",
      "Your BMI is 22.88\n"
     ]
    }
   ],
   "source": [
    "#22 Write a Python program to calculate body mass index.\n",
    "h = float(input(\"How tall are you in meters?\"))\n",
    "w = float(input(\"How heavy are you in kilograms?:\"))\n",
    "print(\"Your BMI is\", round(w / (h**2), 2))"
   ]
  },
  {
   "cell_type": "code",
   "execution_count": 55,
   "id": "af290ea5",
   "metadata": {},
   "outputs": [
    {
     "name": "stdout",
     "output_type": "stream",
     "text": [
      "x1?:3\n",
      "y1?:2\n",
      "x2?:1\n",
      "y2?:3\n",
      "The midpoint of (3.0, 2.0) and (1.0, 3.0) is (2.0, 2.5)\n"
     ]
    }
   ],
   "source": [
    "#23 Write a Python program to calculate midpoints of a line\n",
    "x1=float(input(\"x1?:\"))\n",
    "y1=float(input(\"y1?:\"))\n",
    "x2=float(input(\"x2?:\"))\n",
    "y2=float(input(\"y2?:\"))\n",
    "mid=((x1+x2)/2,(y1+y2)/2)\n",
    "print(f\"The midpoint of {(x1,y1)} and {(x2,y2)} is {(mid)}\")"
   ]
  },
  {
   "cell_type": "code",
   "execution_count": 59,
   "id": "b064facd",
   "metadata": {
    "scrolled": false
   },
   "outputs": [
    {
     "name": "stdout",
     "output_type": "stream",
     "text": [
      "2002, 2009, 2016, 2023, 2037, 2044, 2051, 2058, 2072, 2079, 2086, 2093, 2107, 2114, 2121, 2128, 2142, 2149, 2156, 2163, 2177, 2184, 2191, 2198, 2212, 2219, 2226, 2233, 2247, 2254, 2261, 2268, 2282, 2289, 2296, 2303, 2317, 2324, 2331, 2338, 2352, 2359, 2366, 2373, 2387, 2394, 2401, 2408, 2422, 2429, 2436, 2443, 2457, 2464, 2471, 2478, 2492, 2499, 2506, 2513, 2527, 2534, 2541, 2548, 2562, 2569, 2576, 2583, 2597, 2604, 2611, 2618, 2632, 2639, 2646, 2653, 2667, 2674, 2681, 2688, 2702, 2709, 2716, 2723, 2737, 2744, 2751, 2758, 2772, 2779, 2786, 2793, 2807, 2814, 2821, 2828, 2842, 2849, 2856, 2863, 2877, 2884, 2891, 2898, 2912, 2919, 2926, 2933, 2947, 2954, 2961, 2968, 2982, 2989, 2996, 3003, 3017, 3024, 3031, 3038, 3052, 3059, 3066, 3073, 3087, 3094, 3101, 3108, 3122, 3129, 3136, 3143, 3157, 3164, 3171, 3178, 3192, 3199."
     ]
    }
   ],
   "source": [
    "#24 \n",
    "t=[]\n",
    "for i in range(2000,3201):\n",
    "    if(i%7==0)and(i%5!=0):\n",
    "        t.append(str(i))\n",
    "print(*t, sep=\", \",end=\".\")"
   ]
  }
 ],
 "metadata": {
  "kernelspec": {
   "display_name": "Python 3 (ipykernel)",
   "language": "python",
   "name": "python3"
  },
  "language_info": {
   "codemirror_mode": {
    "name": "ipython",
    "version": 3
   },
   "file_extension": ".py",
   "mimetype": "text/x-python",
   "name": "python",
   "nbconvert_exporter": "python",
   "pygments_lexer": "ipython3",
   "version": "3.10.7"
  }
 },
 "nbformat": 4,
 "nbformat_minor": 5
}
